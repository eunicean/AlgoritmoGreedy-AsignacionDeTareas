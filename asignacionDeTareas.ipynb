{
 "cells": [
  {
   "cell_type": "markdown",
   "id": "c9eaf31a",
   "metadata": {},
   "source": [
    "# Algoritmo de Asignación de Tareas"
   ]
  },
  {
   "cell_type": "code",
   "execution_count": 176,
   "id": "bea6bb6a",
   "metadata": {},
   "outputs": [],
   "source": [
    "import numpy as np\n",
    "import pandas as pd\n",
    "from scipy.optimize import linear_sum_assignment"
   ]
  },
  {
   "cell_type": "code",
   "execution_count": 177,
   "id": "dfa7626f",
   "metadata": {},
   "outputs": [],
   "source": [
    "def generar_costos_aleatorios(num_trabajadores, num_tareas):\n",
    "    costos = np.random.randint(1, 101, size=(num_trabajadores, num_tareas))\n",
    "    columnas = [f\"Tarea {i+1}\" for i in range(num_tareas)]\n",
    "    filas = [f\"Trabajador {i+1}\" for i in range(num_trabajadores)]\n",
    "    df = pd.DataFrame(costos, index=filas, columns=columnas)\n",
    "    print(\"\\nMatriz de costos generada aleatoriamente:\")\n",
    "    print(df)\n",
    "    return costos"
   ]
  },
  {
   "cell_type": "code",
   "execution_count": 178,
   "id": "469f8307",
   "metadata": {},
   "outputs": [],
   "source": [
    "def rellenar_matriz(costos):\n",
    "    filas, columnas = costos.shape\n",
    "    if filas == columnas:\n",
    "        return costos\n",
    "    if filas > columnas:\n",
    "        padding = np.full((filas, filas - columnas), 9999)\n",
    "        costos = np.hstack((costos, padding))\n",
    "    else:\n",
    "        padding = np.full((columnas - filas, columnas), 9999)\n",
    "        costos = np.vstack((costos, padding))\n",
    "    return costos"
   ]
  },
  {
   "cell_type": "code",
   "execution_count": 179,
   "id": "8deb57a9",
   "metadata": {},
   "outputs": [],
   "source": [
    "def algoritmo_asignacion(costos):\n",
    "    fila_indices, columna_indices = linear_sum_assignment(costos)\n",
    "    asignaciones = list(zip(fila_indices, columna_indices))\n",
    "    costo_total = costos[fila_indices, columna_indices].sum()\n",
    "    return asignaciones, costo_total"
   ]
  },
  {
   "cell_type": "code",
   "execution_count": null,
   "id": "61648e47",
   "metadata": {},
   "outputs": [],
   "source": [
    "def hungarian_algorithm(cost_matrix):\n",
    "    cost_matrix = cost_matrix.copy()\n",
    "    n = cost_matrix.shape[0]\n",
    "\n",
    "    print(\"Paso 1: reducción por filas\")\n",
    "    for i in range(n):\n",
    "        cost_matrix[i] -= cost_matrix[i].min()\n",
    "        print(cost_matrix[i])\n",
    "\n",
    "    print(\"\\nPaso 2: reducción por columnas\")\n",
    "    for j in range(n):\n",
    "        cost_matrix[:, j] -= cost_matrix[:, j].min()\n",
    "        print(cost_matrix[:, j])\n",
    "\n",
    "    # encuentra ceros únicos\n",
    "    def find_zeroes(m):\n",
    "        return [(i, j) for i in range(n) for j in range(n) if m[i][j] == 0]\n",
    "\n",
    "    # encuentra todas las coordenadas donde hay ceros en la matriz\n",
    "    # este asigna sin que dos estén en la misma fila o columna\n",
    "    def cover_zeroes(m):\n",
    "        row_covered = [False] * n\n",
    "        col_covered = [False] * n\n",
    "        zero_locations = find_zeroes(m)\n",
    "        print(f\"\\nCeros encontrados: {zero_locations}\")\n",
    "        marked_zeros = []\n",
    "\n",
    "        for r, c in zero_locations:\n",
    "            if not row_covered[r] and not col_covered[c]:\n",
    "                marked_zeros.append((r, c))\n",
    "                row_covered[r] = True\n",
    "                col_covered[c] = True\n",
    "                # print(f\" fila - {r}: {row_covered}\")\n",
    "                # print(f\" colu - {c}: {col_covered}\")\n",
    "\n",
    "        return marked_zeros\n",
    "\n",
    "    def min_uncovered(m, row_cov, col_cov):\n",
    "        return min(\n",
    "            [m[i][j] for i in range(n) for j in range(n)\n",
    "             if not row_cov[i] and not col_cov[j]]\n",
    "        )\n",
    "\n",
    "    while True:\n",
    "        marked = cover_zeroes(cost_matrix)\n",
    "        print(f\"Combinacion: {marked}\")\n",
    "        # si trabajadores == tareas\n",
    "        if len(marked) == n:\n",
    "            return marked  # lista de asignaciones (trabajador, tarea)\n",
    "        else:\n",
    "            print(f\"  Opcion no cubre asignacion de todas las tareas o trabajadores\")\n",
    "\n",
    "        # si trabajadores != tareas\n",
    "        row_cov = [False] * n\n",
    "        col_cov = [False] * n\n",
    "        for r, c in marked:\n",
    "            col_cov[c] = True\n",
    "\n",
    "        # por si hay ceros sin cubrir\n",
    "        while True:\n",
    "            zero_found = False\n",
    "            for i in range(n):\n",
    "                for j in range(n):\n",
    "                    if cost_matrix[i][j] == 0 and not row_cov[i] and not col_cov[j]:\n",
    "                        row_cov[i] = True\n",
    "                        col_cov[j] = False\n",
    "                        zero_found = True\n",
    "            if not zero_found:\n",
    "                break\n",
    "        \n",
    "        # se crean nuevos ceros si comb actual no es la correcta\n",
    "        min_val = min_uncovered(cost_matrix, row_cov, col_cov)\n",
    "        for i in range(n):\n",
    "            for j in range(n):\n",
    "                if not row_cov[i] and not col_cov[j]:\n",
    "                    # resta ese valor de las posiciones no cubiertas (crea más ceros)\n",
    "                    cost_matrix[i][j] -= min_val\n",
    "                if row_cov[i] and col_cov[j]:\n",
    "                    # suma ese valor a las posiciones doblemente cubiertas (para mantener el equilibrio)\n",
    "                    cost_matrix[i][j] += min_val\n",
    "        \n",
    "        print(\"\\nMatriz ajustada:\")\n",
    "        print(cost_matrix)\n",
    "        print(\"Ceros después del ajuste:\", find_zeroes(cost_matrix))"
   ]
  },
  {
   "cell_type": "code",
   "execution_count": 206,
   "id": "7568f904",
   "metadata": {},
   "outputs": [],
   "source": [
    "def algoritmo_asignacion_manual(costos):\n",
    "    asignaciones = hungarian_algorithm(costos)\n",
    "    costo_total = sum(costos[i][j] for i, j in asignaciones)\n",
    "    return asignaciones, costo_total"
   ]
  },
  {
   "cell_type": "code",
   "execution_count": 225,
   "id": "d7fda5a7",
   "metadata": {},
   "outputs": [
    {
     "name": "stdout",
     "output_type": "stream",
     "text": [
      "Algoritmo de asignación de tareas\n",
      "\n",
      "\n",
      "Matriz de costos generada aleatoriamente:\n",
      "              Tarea 1  Tarea 2  Tarea 3  Tarea 4  Tarea 5\n",
      "Trabajador 1       68       79       59       41       63\n",
      "Trabajador 2       36       99       99       27       34\n",
      "Trabajador 3        8       72       10       11       50\n",
      "Trabajador 4       53       44       10       56       81\n",
      "Trabajador 5       37       31       80       90       22\n"
     ]
    }
   ],
   "source": [
    "print(\"Algoritmo de asignación de tareas\\n\")\n",
    "num_trabajadores = int(input(\"Número de trabajadores: \"))\n",
    "num_tareas = int(input(\"Número de tareas: \"))\n",
    "\n",
    "costos = generar_costos_aleatorios(num_trabajadores, num_tareas)\n",
    "matriz_completa = rellenar_matriz(costos)"
   ]
  },
  {
   "cell_type": "markdown",
   "id": "8757f65f",
   "metadata": {},
   "source": [
    "### Elegir el método"
   ]
  },
  {
   "cell_type": "code",
   "execution_count": 226,
   "id": "1ce978d3",
   "metadata": {},
   "outputs": [
    {
     "name": "stdout",
     "output_type": "stream",
     "text": [
      "Paso 1: reducción por filas\n",
      "[27 38 18  0 22]\n",
      "[ 9 72 72  0  7]\n",
      "[ 0 64  2  3 42]\n",
      "[43 34  0 46 71]\n",
      "[15  9 58 68  0]\n",
      "\n",
      "Paso 2: reducción por columnas\n",
      "[27  9  0 43 15]\n",
      "[29 63 55 25  0]\n",
      "[18 72  2  0 58]\n",
      "[ 0  0  3 46 68]\n",
      "[22  7 42 71  0]\n",
      "\n",
      "Ceros encontrados: [(0, 3), (1, 3), (2, 0), (3, 2), (4, 1), (4, 4)]\n",
      "Combinacion: [(0, 3), (2, 0), (3, 2), (4, 1)]\n",
      "  Opcion no cubre asignacion de todas las tareas o trabajadores\n",
      "\n",
      "Matriz ajustada:\n",
      "[[27 29 18  0 15]\n",
      " [ 9 63 72  0  0]\n",
      " [ 0 55  2  3 35]\n",
      " [43 25  0 46 64]\n",
      " [22  7 65 75  0]]\n",
      "Ceros después del ajuste: [(0, 3), (1, 3), (1, 4), (2, 0), (3, 2), (4, 4)]\n",
      "\n",
      "Ceros encontrados: [(0, 3), (1, 3), (1, 4), (2, 0), (3, 2), (4, 4)]\n",
      "Combinacion: [(0, 3), (1, 4), (2, 0), (3, 2)]\n",
      "  Opcion no cubre asignacion de todas las tareas o trabajadores\n",
      "\n",
      "Matriz ajustada:\n",
      "[[27 22 18  0 15]\n",
      " [ 9 56 72  0  0]\n",
      " [ 0 48  2  3 35]\n",
      " [43 18  0 46 64]\n",
      " [22  0 65 75  0]]\n",
      "Ceros después del ajuste: [(0, 3), (1, 3), (1, 4), (2, 0), (3, 2), (4, 1), (4, 4)]\n",
      "\n",
      "Ceros encontrados: [(0, 3), (1, 3), (1, 4), (2, 0), (3, 2), (4, 1), (4, 4)]\n",
      "Combinacion: [(0, 3), (1, 4), (2, 0), (3, 2), (4, 1)]\n"
     ]
    }
   ],
   "source": [
    "opt = int(input(\"Ingrese la opcion que quiere intentar:\\n 1. Algoritmo de asignacion de Python\\n 2. Algoritmo de asignacion manual\"))\n",
    "if opt == 2:\n",
    "    asignaciones, costo_total = algoritmo_asignacion_manual(matriz_completa)\n",
    "else:\n",
    "    asignaciones, costo_total = algoritmo_asignacion(matriz_completa)"
   ]
  },
  {
   "cell_type": "code",
   "execution_count": 208,
   "id": "29cf940d",
   "metadata": {},
   "outputs": [
    {
     "name": "stdout",
     "output_type": "stream",
     "text": [
      "\n",
      "Asignaciones óptimas:\n",
      "Trabajador 1 → Tarea 3 (Costo: 17)\n",
      "Trabajador 2 → Tarea 2 (Costo: 3)\n",
      "Trabajador 3 → Tarea 4 (Costo: 10)\n",
      "Trabajador 4 → Tarea 1 (Costo: 6)\n",
      "Trabajador 6 → Tarea 5 (Costo: 9)\n",
      "\n",
      "Costo total mínimo: 20043\n"
     ]
    }
   ],
   "source": [
    "print(\"\\nAsignaciones óptimas:\")\n",
    "for trabajador, tarea in asignaciones:\n",
    "    if trabajador < num_trabajadores and tarea < num_tareas:\n",
    "        print(f\"Trabajador {trabajador + 1} → Tarea {tarea + 1} (Costo: {costos[trabajador][tarea]})\")\n",
    "print(f\"\\nCosto total mínimo: {costo_total}\")"
   ]
  }
 ],
 "metadata": {
  "kernelspec": {
   "display_name": "Python 3",
   "language": "python",
   "name": "python3"
  },
  "language_info": {
   "codemirror_mode": {
    "name": "ipython",
    "version": 3
   },
   "file_extension": ".py",
   "mimetype": "text/x-python",
   "name": "python",
   "nbconvert_exporter": "python",
   "pygments_lexer": "ipython3",
   "version": "3.12.4"
  }
 },
 "nbformat": 4,
 "nbformat_minor": 5
}
