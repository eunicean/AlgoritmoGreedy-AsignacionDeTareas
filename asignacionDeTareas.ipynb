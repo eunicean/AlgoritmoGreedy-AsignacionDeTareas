{
 "cells": [
  {
   "cell_type": "markdown",
   "id": "c9eaf31a",
   "metadata": {},
   "source": [
    "# Algoritmo de Asignación de Tareas"
   ]
  },
  {
   "cell_type": "code",
   "execution_count": 15,
   "id": "bea6bb6a",
   "metadata": {},
   "outputs": [],
   "source": [
    "import numpy as np\n",
    "import random\n",
    "from scipy.optimize import linear_sum_assignment"
   ]
  },
  {
   "cell_type": "code",
   "execution_count": 16,
   "id": "dfa7626f",
   "metadata": {},
   "outputs": [],
   "source": [
    "def generar_costos_aleatorios(num_trabajadores, num_tareas):\n",
    "    costos = np.random.randint(1, 101, size=(num_trabajadores, num_tareas))\n",
    "    print(\"\\nMatriz de costos generada aleatoriamente:\")\n",
    "    print(costos)\n",
    "    return costos"
   ]
  },
  {
   "cell_type": "code",
   "execution_count": 17,
   "id": "469f8307",
   "metadata": {},
   "outputs": [],
   "source": [
    "def rellenar_matriz(costos):\n",
    "    filas, columnas = costos.shape\n",
    "    if filas == columnas:\n",
    "        return costos\n",
    "    if filas > columnas:\n",
    "        padding = np.full((filas, filas - columnas), 9999)\n",
    "        costos = np.hstack((costos, padding))\n",
    "    else:\n",
    "        padding = np.full((columnas - filas, columnas), 9999)\n",
    "        costos = np.vstack((costos, padding))\n",
    "    return costos"
   ]
  },
  {
   "cell_type": "code",
   "execution_count": 18,
   "id": "8deb57a9",
   "metadata": {},
   "outputs": [],
   "source": [
    "def algoritmo_asignacion(costos):\n",
    "    fila_indices, columna_indices = linear_sum_assignment(costos)\n",
    "    asignaciones = list(zip(fila_indices, columna_indices))\n",
    "    costo_total = costos[fila_indices, columna_indices].sum()\n",
    "    return asignaciones, costo_total"
   ]
  },
  {
   "cell_type": "code",
   "execution_count": 19,
   "id": "d7fda5a7",
   "metadata": {},
   "outputs": [
    {
     "name": "stdout",
     "output_type": "stream",
     "text": [
      "Algoritmo de asignación de tareas\n",
      "\n",
      "\n",
      "Matriz de costos generada aleatoriamente:\n",
      "[[51 67  9 43 61]\n",
      " [94 36 29 12 87]\n",
      " [92 73 56 69 87]\n",
      " [35 65 36 27 86]\n",
      " [ 7 49 34 68 35]]\n",
      "\n",
      "Asignaciones óptimas:\n",
      "Trabajador 1 → Tarea 3 (Costo: 9)\n",
      "Trabajador 2 → Tarea 4 (Costo: 12)\n",
      "Trabajador 3 → Tarea 2 (Costo: 73)\n",
      "Trabajador 4 → Tarea 1 (Costo: 35)\n",
      "Trabajador 5 → Tarea 5 (Costo: 35)\n",
      "\n",
      "Costo total mínimo: 164\n"
     ]
    }
   ],
   "source": [
    "print(\"Algoritmo de asignación de tareas\\n\")\n",
    "num_trabajadores = int(input(\"Número de trabajadores: \"))\n",
    "num_tareas = int(input(\"Número de tareas: \"))\n",
    "\n",
    "costos = generar_costos_aleatorios(num_trabajadores, num_tareas)\n",
    "matriz_completa = rellenar_matriz(costos)\n",
    "\n",
    "asignaciones, costo_total = algoritmo_asignacion(matriz_completa)\n",
    "\n",
    "print(\"\\nAsignaciones óptimas:\")\n",
    "for trabajador, tarea in asignaciones:\n",
    "    if trabajador < num_trabajadores and tarea < num_tareas:\n",
    "        print(f\"Trabajador {trabajador + 1} → Tarea {tarea + 1} (Costo: {costos[trabajador][tarea]})\")\n",
    "print(f\"\\nCosto total mínimo: {costo_total}\")"
   ]
  }
 ],
 "metadata": {
  "kernelspec": {
   "display_name": "Python 3",
   "language": "python",
   "name": "python3"
  },
  "language_info": {
   "codemirror_mode": {
    "name": "ipython",
    "version": 3
   },
   "file_extension": ".py",
   "mimetype": "text/x-python",
   "name": "python",
   "nbconvert_exporter": "python",
   "pygments_lexer": "ipython3",
   "version": "3.12.4"
  }
 },
 "nbformat": 4,
 "nbformat_minor": 5
}
